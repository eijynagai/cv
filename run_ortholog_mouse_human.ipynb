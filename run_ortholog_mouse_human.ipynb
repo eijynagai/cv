{
 "cells": [
  {
   "cell_type": "markdown",
   "id": "8f93e86e",
   "metadata": {},
   "source": [
    "# Orthologs identification using biomaRt"
   ]
  },
  {
   "cell_type": "code",
   "execution_count": 1,
   "id": "f037c158",
   "metadata": {},
   "outputs": [],
   "source": [
    "#Supposse you have a list of mouse gene symbols like this:\n",
    "gene_list <- c('Xkr4','Sox17','Mrpl15','Lypla1','Gm37988','Tcea1')"
   ]
  },
  {
   "cell_type": "code",
   "execution_count": 2,
   "id": "9b2299b6",
   "metadata": {},
   "outputs": [
    {
     "name": "stderr",
     "output_type": "stream",
     "text": [
      "Ensembl site unresponsive, trying uswest mirror\n",
      "\n"
     ]
    }
   ],
   "source": [
    "# Let's use BiomaRt to retrieve the orthologs human genes for those mouse genes\n",
    "\n",
    "# Note that if you have ensembl ids you can skip to 'ensembl_to_hgnc'.\n",
    "\n",
    "# First load biomart and mouse annotation, you can use other organisms as well. Check biomart manual\n",
    "library(biomaRt)\n",
    "mouse_ensembl <- useMart(biomart = 'ensembl', dataset = 'mmusculus_gene_ensembl')"
   ]
  },
  {
   "cell_type": "code",
   "execution_count": 3,
   "id": "c3591695",
   "metadata": {},
   "outputs": [],
   "source": [
    "# First we translate mouse symbols to ensembl ids\n",
    "mgi_to_ensembl <- getBM(attributes = c('mgi_symbol', 'ensembl_gene_id'), \n",
    "                        filters = 'mgi_symbol', \n",
    "                        mart = mouse_ensembl, \n",
    "                        value = gene_list)"
   ]
  },
  {
   "cell_type": "code",
   "execution_count": 5,
   "id": "f37d1e23",
   "metadata": {},
   "outputs": [],
   "source": [
    "# Then we use our list of genes to map agains biomart database for human orthologs\n",
    "ensembl_to_hgnc <- getBM(attributes = c('hsapiens_homolog_associated_gene_name', 'ensembl_gene_id'), \n",
    "    filters = 'ensembl_gene_id', \n",
    "    mart = mouse_ensembl, \n",
    "    value = mgi_to_ensembl$ensembl_gene_id)"
   ]
  },
  {
   "cell_type": "code",
   "execution_count": 6,
   "id": "0271fa76",
   "metadata": {},
   "outputs": [
    {
     "data": {
      "text/html": [
       "<table class=\"dataframe\">\n",
       "<caption>A data.frame: 6 × 3</caption>\n",
       "<thead>\n",
       "\t<tr><th scope=col>ensembl_gene_id</th><th scope=col>mgi_symbol</th><th scope=col>hsapiens_homolog_associated_gene_name</th></tr>\n",
       "\t<tr><th scope=col>&lt;chr&gt;</th><th scope=col>&lt;chr&gt;</th><th scope=col>&lt;chr&gt;</th></tr>\n",
       "</thead>\n",
       "<tbody>\n",
       "\t<tr><td>ENSMUSG00000025902</td><td>Sox17  </td><td>SOX17 </td></tr>\n",
       "\t<tr><td>ENSMUSG00000025903</td><td>Lypla1 </td><td>LYPLA1</td></tr>\n",
       "\t<tr><td>ENSMUSG00000033813</td><td>Tcea1  </td><td>TCEA1 </td></tr>\n",
       "\t<tr><td>ENSMUSG00000033845</td><td>Mrpl15 </td><td>MRPL15</td></tr>\n",
       "\t<tr><td>ENSMUSG00000051951</td><td>Xkr4   </td><td>XKR4  </td></tr>\n",
       "\t<tr><td>ENSMUSG00000104217</td><td>Gm37988</td><td>      </td></tr>\n",
       "</tbody>\n",
       "</table>\n"
      ],
      "text/latex": [
       "A data.frame: 6 × 3\n",
       "\\begin{tabular}{lll}\n",
       " ensembl\\_gene\\_id & mgi\\_symbol & hsapiens\\_homolog\\_associated\\_gene\\_name\\\\\n",
       " <chr> & <chr> & <chr>\\\\\n",
       "\\hline\n",
       "\t ENSMUSG00000025902 & Sox17   & SOX17 \\\\\n",
       "\t ENSMUSG00000025903 & Lypla1  & LYPLA1\\\\\n",
       "\t ENSMUSG00000033813 & Tcea1   & TCEA1 \\\\\n",
       "\t ENSMUSG00000033845 & Mrpl15  & MRPL15\\\\\n",
       "\t ENSMUSG00000051951 & Xkr4    & XKR4  \\\\\n",
       "\t ENSMUSG00000104217 & Gm37988 &       \\\\\n",
       "\\end{tabular}\n"
      ],
      "text/markdown": [
       "\n",
       "A data.frame: 6 × 3\n",
       "\n",
       "| ensembl_gene_id &lt;chr&gt; | mgi_symbol &lt;chr&gt; | hsapiens_homolog_associated_gene_name &lt;chr&gt; |\n",
       "|---|---|---|\n",
       "| ENSMUSG00000025902 | Sox17   | SOX17  |\n",
       "| ENSMUSG00000025903 | Lypla1  | LYPLA1 |\n",
       "| ENSMUSG00000033813 | Tcea1   | TCEA1  |\n",
       "| ENSMUSG00000033845 | Mrpl15  | MRPL15 |\n",
       "| ENSMUSG00000051951 | Xkr4    | XKR4   |\n",
       "| ENSMUSG00000104217 | Gm37988 | <!----> |\n",
       "\n"
      ],
      "text/plain": [
       "  ensembl_gene_id    mgi_symbol hsapiens_homolog_associated_gene_name\n",
       "1 ENSMUSG00000025902 Sox17      SOX17                                \n",
       "2 ENSMUSG00000025903 Lypla1     LYPLA1                               \n",
       "3 ENSMUSG00000033813 Tcea1      TCEA1                                \n",
       "4 ENSMUSG00000033845 Mrpl15     MRPL15                               \n",
       "5 ENSMUSG00000051951 Xkr4       XKR4                                 \n",
       "6 ENSMUSG00000104217 Gm37988                                         "
      ]
     },
     "metadata": {},
     "output_type": "display_data"
    }
   ],
   "source": [
    "# And finally we combine the results to get a final table\n",
    "mgi_to_hgnc <- merge(mgi_to_ensembl, ensembl_to_hgnc)\n",
    "mgi_to_hgnc"
   ]
  }
 ],
 "metadata": {
  "kernelspec": {
   "display_name": "R",
   "language": "R",
   "name": "ir"
  },
  "language_info": {
   "codemirror_mode": "r",
   "file_extension": ".r",
   "mimetype": "text/x-r-source",
   "name": "R",
   "pygments_lexer": "r",
   "version": "4.0.5"
  }
 },
 "nbformat": 4,
 "nbformat_minor": 5
}
